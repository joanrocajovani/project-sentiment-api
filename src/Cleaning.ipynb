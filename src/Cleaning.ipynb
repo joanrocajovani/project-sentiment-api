{
 "cells": [
  {
   "cell_type": "code",
   "execution_count": 2,
   "id": "fc76e6ec",
   "metadata": {},
   "outputs": [],
   "source": [
    "import pandas as pd\n",
    "import numpy as np"
   ]
  },
  {
   "cell_type": "code",
   "execution_count": 3,
   "id": "354ae78f",
   "metadata": {},
   "outputs": [],
   "source": [
    "df = pd.read_csv(\"../data/imdb_top_1000.csv\") "
   ]
  },
  {
   "cell_type": "markdown",
   "id": "1c5a2040",
   "metadata": {},
   "source": [
    "Dropped the columns I don't need"
   ]
  },
  {
   "cell_type": "code",
   "execution_count": 5,
   "id": "71e88dc2",
   "metadata": {},
   "outputs": [],
   "source": [
    "df = df.drop([\"Runtime\", \"Genre\", \"Poster_Link\", \"Certificate\", \"Meta_score\", \"Gross\", \"No_of_Votes\"], axis = 1)"
   ]
  },
  {
   "cell_type": "code",
   "execution_count": 6,
   "id": "3e5d8710",
   "metadata": {},
   "outputs": [
    {
     "data": {
      "text/html": [
       "<div>\n",
       "<style scoped>\n",
       "    .dataframe tbody tr th:only-of-type {\n",
       "        vertical-align: middle;\n",
       "    }\n",
       "\n",
       "    .dataframe tbody tr th {\n",
       "        vertical-align: top;\n",
       "    }\n",
       "\n",
       "    .dataframe thead th {\n",
       "        text-align: right;\n",
       "    }\n",
       "</style>\n",
       "<table border=\"1\" class=\"dataframe\">\n",
       "  <thead>\n",
       "    <tr style=\"text-align: right;\">\n",
       "      <th></th>\n",
       "      <th>Series_Title</th>\n",
       "      <th>Released_Year</th>\n",
       "      <th>IMDB_Rating</th>\n",
       "      <th>Overview</th>\n",
       "      <th>Director</th>\n",
       "      <th>Star1</th>\n",
       "      <th>Star2</th>\n",
       "      <th>Star3</th>\n",
       "      <th>Star4</th>\n",
       "    </tr>\n",
       "  </thead>\n",
       "  <tbody>\n",
       "    <tr>\n",
       "      <th>0</th>\n",
       "      <td>The Shawshank Redemption</td>\n",
       "      <td>1994</td>\n",
       "      <td>9.3</td>\n",
       "      <td>Two imprisoned men bond over a number of years...</td>\n",
       "      <td>Frank Darabont</td>\n",
       "      <td>Tim Robbins</td>\n",
       "      <td>Morgan Freeman</td>\n",
       "      <td>Bob Gunton</td>\n",
       "      <td>William Sadler</td>\n",
       "    </tr>\n",
       "    <tr>\n",
       "      <th>1</th>\n",
       "      <td>The Godfather</td>\n",
       "      <td>1972</td>\n",
       "      <td>9.2</td>\n",
       "      <td>An organized crime dynasty's aging patriarch t...</td>\n",
       "      <td>Francis Ford Coppola</td>\n",
       "      <td>Marlon Brando</td>\n",
       "      <td>Al Pacino</td>\n",
       "      <td>James Caan</td>\n",
       "      <td>Diane Keaton</td>\n",
       "    </tr>\n",
       "    <tr>\n",
       "      <th>2</th>\n",
       "      <td>The Dark Knight</td>\n",
       "      <td>2008</td>\n",
       "      <td>9.0</td>\n",
       "      <td>When the menace known as the Joker wreaks havo...</td>\n",
       "      <td>Christopher Nolan</td>\n",
       "      <td>Christian Bale</td>\n",
       "      <td>Heath Ledger</td>\n",
       "      <td>Aaron Eckhart</td>\n",
       "      <td>Michael Caine</td>\n",
       "    </tr>\n",
       "    <tr>\n",
       "      <th>3</th>\n",
       "      <td>The Godfather: Part II</td>\n",
       "      <td>1974</td>\n",
       "      <td>9.0</td>\n",
       "      <td>The early life and career of Vito Corleone in ...</td>\n",
       "      <td>Francis Ford Coppola</td>\n",
       "      <td>Al Pacino</td>\n",
       "      <td>Robert De Niro</td>\n",
       "      <td>Robert Duvall</td>\n",
       "      <td>Diane Keaton</td>\n",
       "    </tr>\n",
       "    <tr>\n",
       "      <th>4</th>\n",
       "      <td>12 Angry Men</td>\n",
       "      <td>1957</td>\n",
       "      <td>9.0</td>\n",
       "      <td>A jury holdout attempts to prevent a miscarria...</td>\n",
       "      <td>Sidney Lumet</td>\n",
       "      <td>Henry Fonda</td>\n",
       "      <td>Lee J. Cobb</td>\n",
       "      <td>Martin Balsam</td>\n",
       "      <td>John Fiedler</td>\n",
       "    </tr>\n",
       "  </tbody>\n",
       "</table>\n",
       "</div>"
      ],
      "text/plain": [
       "               Series_Title Released_Year  IMDB_Rating  \\\n",
       "0  The Shawshank Redemption          1994          9.3   \n",
       "1             The Godfather          1972          9.2   \n",
       "2           The Dark Knight          2008          9.0   \n",
       "3    The Godfather: Part II          1974          9.0   \n",
       "4              12 Angry Men          1957          9.0   \n",
       "\n",
       "                                            Overview              Director  \\\n",
       "0  Two imprisoned men bond over a number of years...        Frank Darabont   \n",
       "1  An organized crime dynasty's aging patriarch t...  Francis Ford Coppola   \n",
       "2  When the menace known as the Joker wreaks havo...     Christopher Nolan   \n",
       "3  The early life and career of Vito Corleone in ...  Francis Ford Coppola   \n",
       "4  A jury holdout attempts to prevent a miscarria...          Sidney Lumet   \n",
       "\n",
       "            Star1           Star2          Star3           Star4  \n",
       "0     Tim Robbins  Morgan Freeman     Bob Gunton  William Sadler  \n",
       "1   Marlon Brando       Al Pacino     James Caan    Diane Keaton  \n",
       "2  Christian Bale    Heath Ledger  Aaron Eckhart   Michael Caine  \n",
       "3       Al Pacino  Robert De Niro  Robert Duvall    Diane Keaton  \n",
       "4     Henry Fonda     Lee J. Cobb  Martin Balsam    John Fiedler  "
      ]
     },
     "execution_count": 6,
     "metadata": {},
     "output_type": "execute_result"
    }
   ],
   "source": [
    "df.head()"
   ]
  },
  {
   "cell_type": "markdown",
   "id": "e2ea578e",
   "metadata": {},
   "source": [
    "### Column Year Fix"
   ]
  },
  {
   "cell_type": "code",
   "execution_count": 7,
   "id": "ba73b1fe",
   "metadata": {
    "scrolled": true
   },
   "outputs": [
    {
     "data": {
      "text/plain": [
       "2014    32\n",
       "2004    31\n",
       "2009    29\n",
       "2013    28\n",
       "2016    28\n",
       "        ..\n",
       "1926     1\n",
       "1936     1\n",
       "1924     1\n",
       "1921     1\n",
       "PG       1\n",
       "Name: Released_Year, Length: 100, dtype: int64"
      ]
     },
     "execution_count": 7,
     "metadata": {},
     "output_type": "execute_result"
    }
   ],
   "source": [
    "df[\"Released_Year\"].value_counts()"
   ]
  },
  {
   "cell_type": "code",
   "execution_count": 8,
   "id": "820925fa",
   "metadata": {
    "scrolled": true
   },
   "outputs": [
    {
     "data": {
      "text/html": [
       "<div>\n",
       "<style scoped>\n",
       "    .dataframe tbody tr th:only-of-type {\n",
       "        vertical-align: middle;\n",
       "    }\n",
       "\n",
       "    .dataframe tbody tr th {\n",
       "        vertical-align: top;\n",
       "    }\n",
       "\n",
       "    .dataframe thead th {\n",
       "        text-align: right;\n",
       "    }\n",
       "</style>\n",
       "<table border=\"1\" class=\"dataframe\">\n",
       "  <thead>\n",
       "    <tr style=\"text-align: right;\">\n",
       "      <th></th>\n",
       "      <th>Series_Title</th>\n",
       "      <th>Released_Year</th>\n",
       "      <th>IMDB_Rating</th>\n",
       "      <th>Overview</th>\n",
       "      <th>Director</th>\n",
       "      <th>Star1</th>\n",
       "      <th>Star2</th>\n",
       "      <th>Star3</th>\n",
       "      <th>Star4</th>\n",
       "    </tr>\n",
       "  </thead>\n",
       "  <tbody>\n",
       "    <tr>\n",
       "      <th>966</th>\n",
       "      <td>Apollo 13</td>\n",
       "      <td>PG</td>\n",
       "      <td>7.6</td>\n",
       "      <td>NASA must devise a strategy to return Apollo 1...</td>\n",
       "      <td>Ron Howard</td>\n",
       "      <td>Tom Hanks</td>\n",
       "      <td>Bill Paxton</td>\n",
       "      <td>Kevin Bacon</td>\n",
       "      <td>Gary Sinise</td>\n",
       "    </tr>\n",
       "  </tbody>\n",
       "</table>\n",
       "</div>"
      ],
      "text/plain": [
       "    Series_Title Released_Year  IMDB_Rating  \\\n",
       "966    Apollo 13            PG          7.6   \n",
       "\n",
       "                                              Overview    Director      Star1  \\\n",
       "966  NASA must devise a strategy to return Apollo 1...  Ron Howard  Tom Hanks   \n",
       "\n",
       "           Star2        Star3        Star4  \n",
       "966  Bill Paxton  Kevin Bacon  Gary Sinise  "
      ]
     },
     "execution_count": 8,
     "metadata": {},
     "output_type": "execute_result"
    }
   ],
   "source": [
    "df.loc[df['Released_Year'] == \"PG\"] "
   ]
  },
  {
   "cell_type": "code",
   "execution_count": 9,
   "id": "4c8f15bc",
   "metadata": {},
   "outputs": [],
   "source": [
    "df[\"Released_Year\"] = df[\"Released_Year\"].replace('[^0-9.]','1995', regex=True)"
   ]
  },
  {
   "cell_type": "code",
   "execution_count": 10,
   "id": "1273fe23",
   "metadata": {},
   "outputs": [],
   "source": [
    "df[\"Released_Year\"] = df[\"Released_Year\"].replace('19951995','1995', regex=True)"
   ]
  },
  {
   "cell_type": "code",
   "execution_count": 11,
   "id": "5b89195a",
   "metadata": {},
   "outputs": [
    {
     "data": {
      "text/html": [
       "<div>\n",
       "<style scoped>\n",
       "    .dataframe tbody tr th:only-of-type {\n",
       "        vertical-align: middle;\n",
       "    }\n",
       "\n",
       "    .dataframe tbody tr th {\n",
       "        vertical-align: top;\n",
       "    }\n",
       "\n",
       "    .dataframe thead th {\n",
       "        text-align: right;\n",
       "    }\n",
       "</style>\n",
       "<table border=\"1\" class=\"dataframe\">\n",
       "  <thead>\n",
       "    <tr style=\"text-align: right;\">\n",
       "      <th></th>\n",
       "      <th>Series_Title</th>\n",
       "      <th>Released_Year</th>\n",
       "      <th>IMDB_Rating</th>\n",
       "      <th>Overview</th>\n",
       "      <th>Director</th>\n",
       "      <th>Star1</th>\n",
       "      <th>Star2</th>\n",
       "      <th>Star3</th>\n",
       "      <th>Star4</th>\n",
       "    </tr>\n",
       "  </thead>\n",
       "  <tbody>\n",
       "    <tr>\n",
       "      <th>966</th>\n",
       "      <td>Apollo 13</td>\n",
       "      <td>1995</td>\n",
       "      <td>7.6</td>\n",
       "      <td>NASA must devise a strategy to return Apollo 1...</td>\n",
       "      <td>Ron Howard</td>\n",
       "      <td>Tom Hanks</td>\n",
       "      <td>Bill Paxton</td>\n",
       "      <td>Kevin Bacon</td>\n",
       "      <td>Gary Sinise</td>\n",
       "    </tr>\n",
       "  </tbody>\n",
       "</table>\n",
       "</div>"
      ],
      "text/plain": [
       "    Series_Title Released_Year  IMDB_Rating  \\\n",
       "966    Apollo 13          1995          7.6   \n",
       "\n",
       "                                              Overview    Director      Star1  \\\n",
       "966  NASA must devise a strategy to return Apollo 1...  Ron Howard  Tom Hanks   \n",
       "\n",
       "           Star2        Star3        Star4  \n",
       "966  Bill Paxton  Kevin Bacon  Gary Sinise  "
      ]
     },
     "execution_count": 11,
     "metadata": {},
     "output_type": "execute_result"
    }
   ],
   "source": [
    "df.loc[df['Series_Title'] == \"Apollo 13\"] "
   ]
  },
  {
   "cell_type": "code",
   "execution_count": 12,
   "id": "d9dc4677",
   "metadata": {},
   "outputs": [],
   "source": [
    "df[\"Released_Year\"] = df[\"Released_Year\"].astype(int)"
   ]
  },
  {
   "cell_type": "code",
   "execution_count": 14,
   "id": "2812842a",
   "metadata": {},
   "outputs": [],
   "source": [
    "df.to_csv('tablecleanfin.csv', encoding='utf-8', index = False)"
   ]
  },
  {
   "cell_type": "code",
   "execution_count": null,
   "id": "1fc0764d",
   "metadata": {},
   "outputs": [],
   "source": []
  }
 ],
 "metadata": {
  "kernelspec": {
   "display_name": "Python 3 (ipykernel)",
   "language": "python",
   "name": "python3"
  },
  "language_info": {
   "codemirror_mode": {
    "name": "ipython",
    "version": 3
   },
   "file_extension": ".py",
   "mimetype": "text/x-python",
   "name": "python",
   "nbconvert_exporter": "python",
   "pygments_lexer": "ipython3",
   "version": "3.9.12"
  }
 },
 "nbformat": 4,
 "nbformat_minor": 5
}
