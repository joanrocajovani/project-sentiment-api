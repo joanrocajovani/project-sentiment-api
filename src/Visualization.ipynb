{
 "cells": [
  {
   "cell_type": "markdown",
   "id": "82e60848",
   "metadata": {},
   "source": [
    "## Movies API "
   ]
  },
  {
   "cell_type": "code",
   "execution_count": 17,
   "id": "c3243b1b",
   "metadata": {},
   "outputs": [],
   "source": [
    "import requests\n",
    "\n",
    "import pandas as pd\n",
    "import numpy as np"
   ]
  },
  {
   "cell_type": "markdown",
   "id": "36af97c6",
   "metadata": {},
   "source": [
    "### Get all info from the API\n",
    "With the following route, you can get all the info that the database has"
   ]
  },
  {
   "cell_type": "code",
   "execution_count": 10,
   "id": "81959e6b",
   "metadata": {},
   "outputs": [],
   "source": [
    "total = requests.get('http://localhost:9000/sql/')"
   ]
  },
  {
   "cell_type": "code",
   "execution_count": 31,
   "id": "5c540157",
   "metadata": {},
   "outputs": [
    {
     "data": {
      "text/html": [
       "<div>\n",
       "<style scoped>\n",
       "    .dataframe tbody tr th:only-of-type {\n",
       "        vertical-align: middle;\n",
       "    }\n",
       "\n",
       "    .dataframe tbody tr th {\n",
       "        vertical-align: top;\n",
       "    }\n",
       "\n",
       "    .dataframe thead th {\n",
       "        text-align: right;\n",
       "    }\n",
       "</style>\n",
       "<table border=\"1\" class=\"dataframe\">\n",
       "  <thead>\n",
       "    <tr style=\"text-align: right;\">\n",
       "      <th></th>\n",
       "      <th>Director</th>\n",
       "      <th>IMDB_Rating</th>\n",
       "      <th>Overview</th>\n",
       "      <th>Released_Year</th>\n",
       "      <th>Series_Title</th>\n",
       "      <th>Star1</th>\n",
       "      <th>Star2</th>\n",
       "      <th>Star3</th>\n",
       "      <th>Star4</th>\n",
       "    </tr>\n",
       "  </thead>\n",
       "  <tbody>\n",
       "    <tr>\n",
       "      <th>0</th>\n",
       "      <td>Frank Darabont</td>\n",
       "      <td>9.3</td>\n",
       "      <td>Two imprisoned men bond over a number of years...</td>\n",
       "      <td>1994</td>\n",
       "      <td>The Shawshank Redemption</td>\n",
       "      <td>Tim Robbins</td>\n",
       "      <td>Morgan Freeman</td>\n",
       "      <td>Bob Gunton</td>\n",
       "      <td>William Sadler</td>\n",
       "    </tr>\n",
       "    <tr>\n",
       "      <th>1</th>\n",
       "      <td>Francis Ford Coppola</td>\n",
       "      <td>9.2</td>\n",
       "      <td>An organized crime dynasty's aging patriarch t...</td>\n",
       "      <td>1972</td>\n",
       "      <td>The Godfather</td>\n",
       "      <td>Marlon Brando</td>\n",
       "      <td>Al Pacino</td>\n",
       "      <td>James Caan</td>\n",
       "      <td>Diane Keaton</td>\n",
       "    </tr>\n",
       "    <tr>\n",
       "      <th>2</th>\n",
       "      <td>Christopher Nolan</td>\n",
       "      <td>9.0</td>\n",
       "      <td>When the menace known as the Joker wreaks havo...</td>\n",
       "      <td>2008</td>\n",
       "      <td>The Dark Knight</td>\n",
       "      <td>Christian Bale</td>\n",
       "      <td>Heath Ledger</td>\n",
       "      <td>Aaron Eckhart</td>\n",
       "      <td>Michael Caine</td>\n",
       "    </tr>\n",
       "    <tr>\n",
       "      <th>3</th>\n",
       "      <td>Francis Ford Coppola</td>\n",
       "      <td>9.0</td>\n",
       "      <td>The early life and career of Vito Corleone in ...</td>\n",
       "      <td>1974</td>\n",
       "      <td>The Godfather: Part II</td>\n",
       "      <td>Al Pacino</td>\n",
       "      <td>Robert De Niro</td>\n",
       "      <td>Robert Duvall</td>\n",
       "      <td>Diane Keaton</td>\n",
       "    </tr>\n",
       "    <tr>\n",
       "      <th>4</th>\n",
       "      <td>Sidney Lumet</td>\n",
       "      <td>9.0</td>\n",
       "      <td>A jury holdout attempts to prevent a miscarria...</td>\n",
       "      <td>1957</td>\n",
       "      <td>12 Angry Men</td>\n",
       "      <td>Henry Fonda</td>\n",
       "      <td>Lee J. Cobb</td>\n",
       "      <td>Martin Balsam</td>\n",
       "      <td>John Fiedler</td>\n",
       "    </tr>\n",
       "  </tbody>\n",
       "</table>\n",
       "</div>"
      ],
      "text/plain": [
       "               Director  IMDB_Rating  \\\n",
       "0        Frank Darabont          9.3   \n",
       "1  Francis Ford Coppola          9.2   \n",
       "2     Christopher Nolan          9.0   \n",
       "3  Francis Ford Coppola          9.0   \n",
       "4          Sidney Lumet          9.0   \n",
       "\n",
       "                                            Overview  Released_Year  \\\n",
       "0  Two imprisoned men bond over a number of years...           1994   \n",
       "1  An organized crime dynasty's aging patriarch t...           1972   \n",
       "2  When the menace known as the Joker wreaks havo...           2008   \n",
       "3  The early life and career of Vito Corleone in ...           1974   \n",
       "4  A jury holdout attempts to prevent a miscarria...           1957   \n",
       "\n",
       "               Series_Title           Star1           Star2          Star3  \\\n",
       "0  The Shawshank Redemption     Tim Robbins  Morgan Freeman     Bob Gunton   \n",
       "1             The Godfather   Marlon Brando       Al Pacino     James Caan   \n",
       "2           The Dark Knight  Christian Bale    Heath Ledger  Aaron Eckhart   \n",
       "3    The Godfather: Part II       Al Pacino  Robert De Niro  Robert Duvall   \n",
       "4              12 Angry Men     Henry Fonda     Lee J. Cobb  Martin Balsam   \n",
       "\n",
       "            Star4  \n",
       "0  William Sadler  \n",
       "1    Diane Keaton  \n",
       "2   Michael Caine  \n",
       "3    Diane Keaton  \n",
       "4    John Fiedler  "
      ]
     },
     "execution_count": 31,
     "metadata": {},
     "output_type": "execute_result"
    }
   ],
   "source": [
    "df1 = pd.DataFrame.from_dict(total.json())\n",
    "df1.head()"
   ]
  },
  {
   "cell_type": "markdown",
   "id": "80d33d49",
   "metadata": {},
   "source": [
    "### Searching by Movie"
   ]
  },
  {
   "cell_type": "markdown",
   "id": "f64e03ab",
   "metadata": {},
   "source": [
    "With the following routes, you can search for info about specific movies:"
   ]
  },
  {
   "cell_type": "code",
   "execution_count": 44,
   "id": "a274c183",
   "metadata": {},
   "outputs": [],
   "source": [
    "movie = \"Interstellar\"\n",
    "url = f'http://localhost:9000/sql/title/{movie}/'"
   ]
  },
  {
   "cell_type": "code",
   "execution_count": 45,
   "id": "f5f2de65",
   "metadata": {},
   "outputs": [],
   "source": [
    "all_info_movie = requests.get(url)"
   ]
  },
  {
   "cell_type": "code",
   "execution_count": 46,
   "id": "378d087b",
   "metadata": {},
   "outputs": [],
   "source": [
    "hola = all_info_movie.json()"
   ]
  },
  {
   "cell_type": "code",
   "execution_count": 47,
   "id": "11c778a6",
   "metadata": {},
   "outputs": [
    {
     "data": {
      "text/plain": [
       "[{'Director': 'Christopher Nolan',\n",
       "  'IMDB_Rating': 8.6,\n",
       "  'Overview': \"A team of explorers travel through a wormhole in space in an attempt to ensure humanity's survival.\",\n",
       "  'Released_Year': 2014,\n",
       "  'Series_Title': 'Interstellar',\n",
       "  'Star1': 'Matthew McConaughey',\n",
       "  'Star2': 'Anne Hathaway',\n",
       "  'Star3': 'Jessica Chastain',\n",
       "  'Star4': 'Mackenzie Foy'}]"
      ]
     },
     "execution_count": 47,
     "metadata": {},
     "output_type": "execute_result"
    }
   ],
   "source": [
    "hola"
   ]
  },
  {
   "cell_type": "code",
   "execution_count": null,
   "id": "5313a4d4",
   "metadata": {},
   "outputs": [],
   "source": []
  },
  {
   "cell_type": "code",
   "execution_count": 53,
   "id": "5b762d6e",
   "metadata": {},
   "outputs": [],
   "source": [
    "def find_info_movie():\n",
    "    movie = input(\"Please enter a movie: \")\n",
    "    url = f'http://localhost:9000/sql/title/{movie}/'\n",
    "    all_info_movie = requests.get(url)\n",
    "    hola = all_info_movie.json()\n",
    "    return hola[0]"
   ]
  },
  {
   "cell_type": "code",
   "execution_count": 55,
   "id": "b6a5b16a",
   "metadata": {},
   "outputs": [
    {
     "name": "stdout",
     "output_type": "stream",
     "text": [
      "Please enter a movie: Pulp Fiction\n"
     ]
    },
    {
     "data": {
      "text/plain": [
       "{'Director': 'Quentin Tarantino',\n",
       " 'IMDB_Rating': 8.9,\n",
       " 'Overview': 'The lives of two mob hitmen, a boxer, a gangster and his wife, and a pair of diner bandits intertwine in four tales of violence and redemption.',\n",
       " 'Released_Year': 1994,\n",
       " 'Series_Title': 'Pulp Fiction',\n",
       " 'Star1': 'John Travolta',\n",
       " 'Star2': 'Uma Thurman',\n",
       " 'Star3': 'Samuel L. Jackson',\n",
       " 'Star4': 'Bruce Willis'}"
      ]
     },
     "execution_count": 55,
     "metadata": {},
     "output_type": "execute_result"
    }
   ],
   "source": [
    "find_info_movie()"
   ]
  },
  {
   "cell_type": "code",
   "execution_count": null,
   "id": "ff68afdd",
   "metadata": {},
   "outputs": [],
   "source": []
  },
  {
   "cell_type": "code",
   "execution_count": null,
   "id": "dad4486e",
   "metadata": {},
   "outputs": [],
   "source": []
  },
  {
   "cell_type": "code",
   "execution_count": null,
   "id": "49e6adb6",
   "metadata": {},
   "outputs": [],
   "source": []
  },
  {
   "cell_type": "code",
   "execution_count": null,
   "id": "a15581b2",
   "metadata": {},
   "outputs": [],
   "source": []
  },
  {
   "cell_type": "code",
   "execution_count": 8,
   "id": "a57387f7",
   "metadata": {},
   "outputs": [
    {
     "data": {
      "text/plain": [
       "<Response [200]>"
      ]
     },
     "execution_count": 8,
     "metadata": {},
     "output_type": "execute_result"
    }
   ],
   "source": [
    "headers = {'Series_Title': \"Joan the programmer\", 'Released_Year': '2022', 'IMDB_Rating': '7.5', \n",
    "           'Overview': 'Joan is a great programmer who loves SQL', 'Director': 'Carlos Munoz', 'Star1': 'Marc Dalmau',\n",
    "           'Star2': 'David Ros', 'Star3': 'Bernat Bellmunt', 'Star4': \"Hugo Alaimo\" }\n",
    "\n",
    "requests.post('http://localhost:9000/post', params=headers)"
   ]
  },
  {
   "cell_type": "code",
   "execution_count": null,
   "id": "67335d0e",
   "metadata": {},
   "outputs": [],
   "source": []
  }
 ],
 "metadata": {
  "kernelspec": {
   "display_name": "Python 3 (ipykernel)",
   "language": "python",
   "name": "python3"
  },
  "language_info": {
   "codemirror_mode": {
    "name": "ipython",
    "version": 3
   },
   "file_extension": ".py",
   "mimetype": "text/x-python",
   "name": "python",
   "nbconvert_exporter": "python",
   "pygments_lexer": "ipython3",
   "version": "3.9.12"
  }
 },
 "nbformat": 4,
 "nbformat_minor": 5
}
