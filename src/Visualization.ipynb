{
 "cells": [
  {
   "cell_type": "markdown",
   "id": "82e60848",
   "metadata": {},
   "source": [
    "# Movies API "
   ]
  },
  {
   "cell_type": "code",
   "execution_count": 1,
   "id": "c3243b1b",
   "metadata": {},
   "outputs": [],
   "source": [
    "import requests\n",
    "\n",
    "import pandas as pd\n",
    "import numpy as np\n",
    "\n",
    "import search_functions as search"
   ]
  },
  {
   "cell_type": "markdown",
   "id": "80d33d49",
   "metadata": {},
   "source": [
    "## Searching by Movie"
   ]
  },
  {
   "cell_type": "markdown",
   "id": "f64e03ab",
   "metadata": {},
   "source": [
    "Using the function find_info_movie(), we can type a movie and find the following information:\n",
    "- Everything\n",
    "- Director\n",
    "- Rating\n",
    "- Year\n",
    "- Overview\n",
    "- Cast\n",
    "- Overview's sentiment"
   ]
  },
  {
   "cell_type": "markdown",
   "id": "0d74a966",
   "metadata": {},
   "source": [
    "### Finding everything from a movie"
   ]
  },
  {
   "cell_type": "code",
   "execution_count": 2,
   "id": "ff68afdd",
   "metadata": {
    "scrolled": true
   },
   "outputs": [
    {
     "name": "stdout",
     "output_type": "stream",
     "text": [
      "Please enter a movie: Interstellar\n",
      "Pick an option:\n",
      "1) everything\n",
      "2) director\n",
      "3) rating\n",
      "4) year\n",
      "5) overview\n",
      "6) cast\n",
      "7) sentiment\n",
      "Your choice: everything\n"
     ]
    },
    {
     "data": {
      "text/plain": [
       "{'Director': 'Christopher Nolan',\n",
       " 'IMDB_Rating': 8.6,\n",
       " 'Overview': \"A team of explorers travel through a wormhole in space in an attempt to ensure humanity's survival.\",\n",
       " 'Released_Year': 2014,\n",
       " 'Series_Title': 'Interstellar',\n",
       " 'Star1': 'Matthew McConaughey',\n",
       " 'Star2': 'Anne Hathaway',\n",
       " 'Star3': 'Jessica Chastain',\n",
       " 'Star4': 'Mackenzie Foy'}"
      ]
     },
     "execution_count": 2,
     "metadata": {},
     "output_type": "execute_result"
    }
   ],
   "source": [
    "search.find_info_movie()"
   ]
  },
  {
   "cell_type": "markdown",
   "id": "52df9295",
   "metadata": {},
   "source": [
    "### Finding the director of a movie:"
   ]
  },
  {
   "cell_type": "code",
   "execution_count": 3,
   "id": "887be36d",
   "metadata": {
    "scrolled": false
   },
   "outputs": [
    {
     "name": "stdout",
     "output_type": "stream",
     "text": [
      "Please enter a movie: Pulp Fiction\n",
      "Pick an option:\n",
      "1) everything\n",
      "2) director\n",
      "3) rating\n",
      "4) year\n",
      "5) overview\n",
      "6) cast\n",
      "7) sentiment\n",
      "Your choice: director\n"
     ]
    },
    {
     "data": {
      "text/plain": [
       "{'Director': 'Quentin Tarantino'}"
      ]
     },
     "execution_count": 3,
     "metadata": {},
     "output_type": "execute_result"
    }
   ],
   "source": [
    "search.find_info_movie()"
   ]
  },
  {
   "cell_type": "markdown",
   "id": "02e09d7e",
   "metadata": {},
   "source": [
    "### Finding the rating of a movie:"
   ]
  },
  {
   "cell_type": "code",
   "execution_count": 5,
   "id": "98af463f",
   "metadata": {},
   "outputs": [
    {
     "name": "stdout",
     "output_type": "stream",
     "text": [
      "Please enter a movie: Inglourious Basterds\n",
      "Pick an option:\n",
      "1) everything\n",
      "2) director\n",
      "3) rating\n",
      "4) year\n",
      "5) overview\n",
      "6) cast\n",
      "7) sentiment\n",
      "Your choice: rating\n"
     ]
    },
    {
     "data": {
      "text/plain": [
       "{'IMDB_Rating': 8.3}"
      ]
     },
     "execution_count": 5,
     "metadata": {},
     "output_type": "execute_result"
    }
   ],
   "source": [
    "search.find_info_movie()"
   ]
  },
  {
   "cell_type": "markdown",
   "id": "783441cb",
   "metadata": {},
   "source": [
    "### Finding the released year of a movie:"
   ]
  },
  {
   "cell_type": "code",
   "execution_count": 6,
   "id": "38b2a675",
   "metadata": {},
   "outputs": [
    {
     "name": "stdout",
     "output_type": "stream",
     "text": [
      "Please enter a movie: Titanic\n",
      "Pick an option:\n",
      "1) everything\n",
      "2) director\n",
      "3) rating\n",
      "4) year\n",
      "5) overview\n",
      "6) cast\n",
      "7) sentiment\n",
      "Your choice: year\n"
     ]
    },
    {
     "data": {
      "text/plain": [
       "{'Released_Year': 1997}"
      ]
     },
     "execution_count": 6,
     "metadata": {},
     "output_type": "execute_result"
    }
   ],
   "source": [
    "search.find_info_movie()"
   ]
  },
  {
   "cell_type": "markdown",
   "id": "5daa009d",
   "metadata": {},
   "source": [
    "### Finding the overview of a movie:"
   ]
  },
  {
   "cell_type": "code",
   "execution_count": 7,
   "id": "e3f9c7d1",
   "metadata": {},
   "outputs": [
    {
     "name": "stdout",
     "output_type": "stream",
     "text": [
      "Please enter a movie: Avatar\n",
      "Pick an option:\n",
      "1) everything\n",
      "2) director\n",
      "3) rating\n",
      "4) year\n",
      "5) overview\n",
      "6) cast\n",
      "7) sentiment\n",
      "Your choice: overview\n"
     ]
    },
    {
     "data": {
      "text/plain": [
       "{'Overview': 'A paraplegic Marine dispatched to the moon Pandora on a unique mission becomes torn between following his orders and protecting the world he feels is his home.'}"
      ]
     },
     "execution_count": 7,
     "metadata": {},
     "output_type": "execute_result"
    }
   ],
   "source": [
    "search.find_info_movie()"
   ]
  },
  {
   "cell_type": "markdown",
   "id": "ef22c4ce",
   "metadata": {},
   "source": [
    "### Finding the cast of a movie:"
   ]
  },
  {
   "cell_type": "code",
   "execution_count": 8,
   "id": "3d959e72",
   "metadata": {},
   "outputs": [
    {
     "name": "stdout",
     "output_type": "stream",
     "text": [
      "Please enter a movie: Fight Club\n",
      "Pick an option:\n",
      "1) everything\n",
      "2) director\n",
      "3) rating\n",
      "4) year\n",
      "5) overview\n",
      "6) cast\n",
      "7) sentiment\n",
      "Your choice: cast\n"
     ]
    },
    {
     "data": {
      "text/plain": [
       "{'Star1': 'Brad Pitt',\n",
       " 'Star2': 'Edward Norton',\n",
       " 'Star3': 'Meat Loaf',\n",
       " 'Star4': 'Zach Grenier'}"
      ]
     },
     "execution_count": 8,
     "metadata": {},
     "output_type": "execute_result"
    }
   ],
   "source": [
    "search.find_info_movie()"
   ]
  },
  {
   "cell_type": "markdown",
   "id": "5690d058",
   "metadata": {},
   "source": [
    "### Finding the overview's sentiment of a movie:"
   ]
  },
  {
   "cell_type": "code",
   "execution_count": 15,
   "id": "589b92de",
   "metadata": {},
   "outputs": [
    {
     "name": "stdout",
     "output_type": "stream",
     "text": [
      "Please enter a movie: The Pursuit of Happyness\n",
      "Pick an option:\n",
      "1) everything\n",
      "2) director\n",
      "3) rating\n",
      "4) year\n",
      "5) overview\n",
      "6) cast\n",
      "7) sentiment\n",
      "Your choice: sentiment\n"
     ]
    },
    {
     "data": {
      "text/plain": [
       "b\"{'neg': 0.157, 'neu': 0.73, 'pos': 0.112, 'compound': -0.2023}\""
      ]
     },
     "execution_count": 15,
     "metadata": {},
     "output_type": "execute_result"
    }
   ],
   "source": [
    "search.find_info_movie()"
   ]
  },
  {
   "cell_type": "markdown",
   "id": "92c8809f",
   "metadata": {},
   "source": [
    "## Searching by Director"
   ]
  },
  {
   "cell_type": "markdown",
   "id": "a614658d",
   "metadata": {},
   "source": [
    "Using the function find_info_director() we can extract the following info:\n",
    "- Everything: Dataframe with info about all movies directed\n",
    "- Avg Rating: Average of the rating of all movies directed\n",
    "- Titles: Titles of the movies directed"
   ]
  },
  {
   "cell_type": "code",
   "execution_count": 16,
   "id": "a15581b2",
   "metadata": {},
   "outputs": [
    {
     "name": "stdout",
     "output_type": "stream",
     "text": [
      "Please enter a director: Quentin Tarantino\n",
      "Pick an option:\n",
      "1) everything\n",
      "2) avgrating\n",
      "3) titles\n",
      "Your choice: everything\n"
     ]
    },
    {
     "data": {
      "text/html": [
       "<div>\n",
       "<style scoped>\n",
       "    .dataframe tbody tr th:only-of-type {\n",
       "        vertical-align: middle;\n",
       "    }\n",
       "\n",
       "    .dataframe tbody tr th {\n",
       "        vertical-align: top;\n",
       "    }\n",
       "\n",
       "    .dataframe thead th {\n",
       "        text-align: right;\n",
       "    }\n",
       "</style>\n",
       "<table border=\"1\" class=\"dataframe\">\n",
       "  <thead>\n",
       "    <tr style=\"text-align: right;\">\n",
       "      <th></th>\n",
       "      <th>Director</th>\n",
       "      <th>IMDB_Rating</th>\n",
       "      <th>Overview</th>\n",
       "      <th>Released_Year</th>\n",
       "      <th>Series_Title</th>\n",
       "      <th>Star1</th>\n",
       "      <th>Star2</th>\n",
       "      <th>Star3</th>\n",
       "      <th>Star4</th>\n",
       "    </tr>\n",
       "  </thead>\n",
       "  <tbody>\n",
       "    <tr>\n",
       "      <th>0</th>\n",
       "      <td>Quentin Tarantino</td>\n",
       "      <td>8.9</td>\n",
       "      <td>The lives of two mob hitmen, a boxer, a gangst...</td>\n",
       "      <td>1994</td>\n",
       "      <td>Pulp Fiction</td>\n",
       "      <td>John Travolta</td>\n",
       "      <td>Uma Thurman</td>\n",
       "      <td>Samuel L. Jackson</td>\n",
       "      <td>Bruce Willis</td>\n",
       "    </tr>\n",
       "    <tr>\n",
       "      <th>1</th>\n",
       "      <td>Quentin Tarantino</td>\n",
       "      <td>8.4</td>\n",
       "      <td>With the help of a German bounty hunter, a fre...</td>\n",
       "      <td>2012</td>\n",
       "      <td>Django Unchained</td>\n",
       "      <td>Jamie Foxx</td>\n",
       "      <td>Christoph Waltz</td>\n",
       "      <td>Leonardo DiCaprio</td>\n",
       "      <td>Kerry Washington</td>\n",
       "    </tr>\n",
       "    <tr>\n",
       "      <th>2</th>\n",
       "      <td>Quentin Tarantino</td>\n",
       "      <td>8.3</td>\n",
       "      <td>In Nazi-occupied France during World War II, a...</td>\n",
       "      <td>2009</td>\n",
       "      <td>Inglourious Basterds</td>\n",
       "      <td>Brad Pitt</td>\n",
       "      <td>Diane Kruger</td>\n",
       "      <td>Eli Roth</td>\n",
       "      <td>Mélanie Laurent</td>\n",
       "    </tr>\n",
       "    <tr>\n",
       "      <th>3</th>\n",
       "      <td>Quentin Tarantino</td>\n",
       "      <td>8.3</td>\n",
       "      <td>When a simple jewelry heist goes horribly wron...</td>\n",
       "      <td>1992</td>\n",
       "      <td>Reservoir Dogs</td>\n",
       "      <td>Harvey Keitel</td>\n",
       "      <td>Tim Roth</td>\n",
       "      <td>Michael Madsen</td>\n",
       "      <td>Chris Penn</td>\n",
       "    </tr>\n",
       "    <tr>\n",
       "      <th>4</th>\n",
       "      <td>Quentin Tarantino</td>\n",
       "      <td>8.1</td>\n",
       "      <td>After awakening from a four-year coma, a forme...</td>\n",
       "      <td>2003</td>\n",
       "      <td>Kill Bill: Vol. 1</td>\n",
       "      <td>Uma Thurman</td>\n",
       "      <td>David Carradine</td>\n",
       "      <td>Daryl Hannah</td>\n",
       "      <td>Michael Madsen</td>\n",
       "    </tr>\n",
       "    <tr>\n",
       "      <th>5</th>\n",
       "      <td>Quentin Tarantino</td>\n",
       "      <td>8.0</td>\n",
       "      <td>The Bride continues her quest of vengeance aga...</td>\n",
       "      <td>2004</td>\n",
       "      <td>Kill Bill: Vol. 2</td>\n",
       "      <td>Uma Thurman</td>\n",
       "      <td>David Carradine</td>\n",
       "      <td>Michael Madsen</td>\n",
       "      <td>Daryl Hannah</td>\n",
       "    </tr>\n",
       "    <tr>\n",
       "      <th>6</th>\n",
       "      <td>Quentin Tarantino</td>\n",
       "      <td>7.8</td>\n",
       "      <td>In the dead of a Wyoming winter, a bounty hunt...</td>\n",
       "      <td>2015</td>\n",
       "      <td>The Hateful Eight</td>\n",
       "      <td>Samuel L. Jackson</td>\n",
       "      <td>Kurt Russell</td>\n",
       "      <td>Jennifer Jason Leigh</td>\n",
       "      <td>Walton Goggins</td>\n",
       "    </tr>\n",
       "    <tr>\n",
       "      <th>7</th>\n",
       "      <td>Quentin Tarantino</td>\n",
       "      <td>7.6</td>\n",
       "      <td>A faded television actor and his stunt double ...</td>\n",
       "      <td>2019</td>\n",
       "      <td>Once Upon a Time... in Hollywood</td>\n",
       "      <td>Leonardo DiCaprio</td>\n",
       "      <td>Brad Pitt</td>\n",
       "      <td>Margot Robbie</td>\n",
       "      <td>Emile Hirsch</td>\n",
       "    </tr>\n",
       "  </tbody>\n",
       "</table>\n",
       "</div>"
      ],
      "text/plain": [
       "            Director  IMDB_Rating  \\\n",
       "0  Quentin Tarantino          8.9   \n",
       "1  Quentin Tarantino          8.4   \n",
       "2  Quentin Tarantino          8.3   \n",
       "3  Quentin Tarantino          8.3   \n",
       "4  Quentin Tarantino          8.1   \n",
       "5  Quentin Tarantino          8.0   \n",
       "6  Quentin Tarantino          7.8   \n",
       "7  Quentin Tarantino          7.6   \n",
       "\n",
       "                                            Overview  Released_Year  \\\n",
       "0  The lives of two mob hitmen, a boxer, a gangst...           1994   \n",
       "1  With the help of a German bounty hunter, a fre...           2012   \n",
       "2  In Nazi-occupied France during World War II, a...           2009   \n",
       "3  When a simple jewelry heist goes horribly wron...           1992   \n",
       "4  After awakening from a four-year coma, a forme...           2003   \n",
       "5  The Bride continues her quest of vengeance aga...           2004   \n",
       "6  In the dead of a Wyoming winter, a bounty hunt...           2015   \n",
       "7  A faded television actor and his stunt double ...           2019   \n",
       "\n",
       "                       Series_Title              Star1            Star2  \\\n",
       "0                      Pulp Fiction      John Travolta      Uma Thurman   \n",
       "1                  Django Unchained         Jamie Foxx  Christoph Waltz   \n",
       "2              Inglourious Basterds          Brad Pitt     Diane Kruger   \n",
       "3                    Reservoir Dogs      Harvey Keitel         Tim Roth   \n",
       "4                 Kill Bill: Vol. 1        Uma Thurman  David Carradine   \n",
       "5                 Kill Bill: Vol. 2        Uma Thurman  David Carradine   \n",
       "6                 The Hateful Eight  Samuel L. Jackson     Kurt Russell   \n",
       "7  Once Upon a Time... in Hollywood  Leonardo DiCaprio        Brad Pitt   \n",
       "\n",
       "                  Star3             Star4  \n",
       "0     Samuel L. Jackson      Bruce Willis  \n",
       "1     Leonardo DiCaprio  Kerry Washington  \n",
       "2              Eli Roth   Mélanie Laurent  \n",
       "3        Michael Madsen        Chris Penn  \n",
       "4          Daryl Hannah    Michael Madsen  \n",
       "5        Michael Madsen      Daryl Hannah  \n",
       "6  Jennifer Jason Leigh    Walton Goggins  \n",
       "7         Margot Robbie      Emile Hirsch  "
      ]
     },
     "execution_count": 16,
     "metadata": {},
     "output_type": "execute_result"
    }
   ],
   "source": [
    "search.find_info_director()"
   ]
  },
  {
   "cell_type": "code",
   "execution_count": 17,
   "id": "81991f39",
   "metadata": {},
   "outputs": [
    {
     "name": "stdout",
     "output_type": "stream",
     "text": [
      "Please enter a director: Christopher Nolan\n",
      "Pick an option:\n",
      "1) everything\n",
      "2) avgrating\n",
      "3) titles\n",
      "Your choice: avgrating\n"
     ]
    },
    {
     "data": {
      "text/plain": [
       "[{'AVG(IMDB_Rating)': 8.462499999999999}]"
      ]
     },
     "execution_count": 17,
     "metadata": {},
     "output_type": "execute_result"
    }
   ],
   "source": [
    "search.find_info_director()"
   ]
  },
  {
   "cell_type": "code",
   "execution_count": 18,
   "id": "818221a9",
   "metadata": {},
   "outputs": [
    {
     "name": "stdout",
     "output_type": "stream",
     "text": [
      "Please enter a director: Martin Scorsese\n",
      "Pick an option:\n",
      "1) everything\n",
      "2) avgrating\n",
      "3) titles\n",
      "Your choice: titles\n"
     ]
    },
    {
     "data": {
      "text/plain": [
       "[{'Series_Title': 'Goodfellas'},\n",
       " {'Series_Title': 'The Departed'},\n",
       " {'Series_Title': 'Taxi Driver'},\n",
       " {'Series_Title': 'Shutter Island'},\n",
       " {'Series_Title': 'The Wolf of Wall Street'},\n",
       " {'Series_Title': 'Casino'},\n",
       " {'Series_Title': 'Raging Bull'},\n",
       " {'Series_Title': 'The Irishman'},\n",
       " {'Series_Title': 'The King of Comedy'},\n",
       " {'Series_Title': 'After Hours'}]"
      ]
     },
     "execution_count": 18,
     "metadata": {},
     "output_type": "execute_result"
    }
   ],
   "source": [
    "search.find_info_director()"
   ]
  },
  {
   "cell_type": "markdown",
   "id": "8751567e",
   "metadata": {},
   "source": [
    "## Searching by Actor/Actress"
   ]
  },
  {
   "cell_type": "markdown",
   "id": "189ff7ff",
   "metadata": {},
   "source": [
    "Using the function find_info_actor() we can extract the following info:\n",
    "- Everything: Dataframe with info about all featured movies \n",
    "- Avg Rating: Average of the rating of all featured movies\n",
    "- Titles: Titles of the featured movies"
   ]
  },
  {
   "cell_type": "code",
   "execution_count": 19,
   "id": "ab79fba1",
   "metadata": {
    "scrolled": false
   },
   "outputs": [
    {
     "name": "stdout",
     "output_type": "stream",
     "text": [
      "Please enter an actor or actress: Leonardo Dicaprio\n",
      "Pick an option:\n",
      "1) everything\n",
      "2) avgrating\n",
      "3) titles\n",
      "Your choice: everything\n"
     ]
    },
    {
     "data": {
      "text/html": [
       "<div>\n",
       "<style scoped>\n",
       "    .dataframe tbody tr th:only-of-type {\n",
       "        vertical-align: middle;\n",
       "    }\n",
       "\n",
       "    .dataframe tbody tr th {\n",
       "        vertical-align: top;\n",
       "    }\n",
       "\n",
       "    .dataframe thead th {\n",
       "        text-align: right;\n",
       "    }\n",
       "</style>\n",
       "<table border=\"1\" class=\"dataframe\">\n",
       "  <thead>\n",
       "    <tr style=\"text-align: right;\">\n",
       "      <th></th>\n",
       "      <th>Director</th>\n",
       "      <th>IMDB_Rating</th>\n",
       "      <th>Overview</th>\n",
       "      <th>Released_Year</th>\n",
       "      <th>Series_Title</th>\n",
       "      <th>Star1</th>\n",
       "      <th>Star2</th>\n",
       "      <th>Star3</th>\n",
       "      <th>Star4</th>\n",
       "    </tr>\n",
       "  </thead>\n",
       "  <tbody>\n",
       "    <tr>\n",
       "      <th>0</th>\n",
       "      <td>Christopher Nolan</td>\n",
       "      <td>8.8</td>\n",
       "      <td>A thief who steals corporate secrets through t...</td>\n",
       "      <td>2010</td>\n",
       "      <td>Inception</td>\n",
       "      <td>Leonardo DiCaprio</td>\n",
       "      <td>Joseph Gordon-Levitt</td>\n",
       "      <td>Elliot Page</td>\n",
       "      <td>Ken Watanabe</td>\n",
       "    </tr>\n",
       "    <tr>\n",
       "      <th>1</th>\n",
       "      <td>Martin Scorsese</td>\n",
       "      <td>8.5</td>\n",
       "      <td>An undercover cop and a mole in the police att...</td>\n",
       "      <td>2006</td>\n",
       "      <td>The Departed</td>\n",
       "      <td>Leonardo DiCaprio</td>\n",
       "      <td>Matt Damon</td>\n",
       "      <td>Jack Nicholson</td>\n",
       "      <td>Mark Wahlberg</td>\n",
       "    </tr>\n",
       "    <tr>\n",
       "      <th>2</th>\n",
       "      <td>Quentin Tarantino</td>\n",
       "      <td>8.4</td>\n",
       "      <td>With the help of a German bounty hunter, a fre...</td>\n",
       "      <td>2012</td>\n",
       "      <td>Django Unchained</td>\n",
       "      <td>Jamie Foxx</td>\n",
       "      <td>Christoph Waltz</td>\n",
       "      <td>Leonardo DiCaprio</td>\n",
       "      <td>Kerry Washington</td>\n",
       "    </tr>\n",
       "    <tr>\n",
       "      <th>3</th>\n",
       "      <td>Martin Scorsese</td>\n",
       "      <td>8.2</td>\n",
       "      <td>In 1954, a U.S. Marshal investigates the disap...</td>\n",
       "      <td>2010</td>\n",
       "      <td>Shutter Island</td>\n",
       "      <td>Leonardo DiCaprio</td>\n",
       "      <td>Emily Mortimer</td>\n",
       "      <td>Mark Ruffalo</td>\n",
       "      <td>Ben Kingsley</td>\n",
       "    </tr>\n",
       "    <tr>\n",
       "      <th>4</th>\n",
       "      <td>Martin Scorsese</td>\n",
       "      <td>8.2</td>\n",
       "      <td>Based on the true story of Jordan Belfort, fro...</td>\n",
       "      <td>2013</td>\n",
       "      <td>The Wolf of Wall Street</td>\n",
       "      <td>Leonardo DiCaprio</td>\n",
       "      <td>Jonah Hill</td>\n",
       "      <td>Margot Robbie</td>\n",
       "      <td>Matthew McConaughey</td>\n",
       "    </tr>\n",
       "    <tr>\n",
       "      <th>5</th>\n",
       "      <td>Steven Spielberg</td>\n",
       "      <td>8.1</td>\n",
       "      <td>Barely 21 yet, Frank is a skilled forger who h...</td>\n",
       "      <td>2002</td>\n",
       "      <td>Catch Me If You Can</td>\n",
       "      <td>Leonardo DiCaprio</td>\n",
       "      <td>Tom Hanks</td>\n",
       "      <td>Christopher Walken</td>\n",
       "      <td>Martin Sheen</td>\n",
       "    </tr>\n",
       "    <tr>\n",
       "      <th>6</th>\n",
       "      <td>Alejandro G. Iñárritu</td>\n",
       "      <td>8.0</td>\n",
       "      <td>A frontiersman on a fur trading expedition in ...</td>\n",
       "      <td>2015</td>\n",
       "      <td>The Revenant</td>\n",
       "      <td>Leonardo DiCaprio</td>\n",
       "      <td>Tom Hardy</td>\n",
       "      <td>Will Poulter</td>\n",
       "      <td>Domhnall Gleeson</td>\n",
       "    </tr>\n",
       "    <tr>\n",
       "      <th>7</th>\n",
       "      <td>Edward Zwick</td>\n",
       "      <td>8.0</td>\n",
       "      <td>A fisherman, a smuggler, and a syndicate of bu...</td>\n",
       "      <td>2006</td>\n",
       "      <td>Blood Diamond</td>\n",
       "      <td>Leonardo DiCaprio</td>\n",
       "      <td>Djimon Hounsou</td>\n",
       "      <td>Jennifer Connelly</td>\n",
       "      <td>Kagiso Kuypers</td>\n",
       "    </tr>\n",
       "    <tr>\n",
       "      <th>8</th>\n",
       "      <td>James Cameron</td>\n",
       "      <td>7.8</td>\n",
       "      <td>A seventeen-year-old aristocrat falls in love ...</td>\n",
       "      <td>1997</td>\n",
       "      <td>Titanic</td>\n",
       "      <td>Leonardo DiCaprio</td>\n",
       "      <td>Kate Winslet</td>\n",
       "      <td>Billy Zane</td>\n",
       "      <td>Kathy Bates</td>\n",
       "    </tr>\n",
       "    <tr>\n",
       "      <th>9</th>\n",
       "      <td>Lasse Hallström</td>\n",
       "      <td>7.8</td>\n",
       "      <td>A young man in a small Midwestern town struggl...</td>\n",
       "      <td>1993</td>\n",
       "      <td>What's Eating Gilbert Grape</td>\n",
       "      <td>Johnny Depp</td>\n",
       "      <td>Leonardo DiCaprio</td>\n",
       "      <td>Juliette Lewis</td>\n",
       "      <td>Mary Steenburgen</td>\n",
       "    </tr>\n",
       "    <tr>\n",
       "      <th>10</th>\n",
       "      <td>Quentin Tarantino</td>\n",
       "      <td>7.6</td>\n",
       "      <td>A faded television actor and his stunt double ...</td>\n",
       "      <td>2019</td>\n",
       "      <td>Once Upon a Time... in Hollywood</td>\n",
       "      <td>Leonardo DiCaprio</td>\n",
       "      <td>Brad Pitt</td>\n",
       "      <td>Margot Robbie</td>\n",
       "      <td>Emile Hirsch</td>\n",
       "    </tr>\n",
       "  </tbody>\n",
       "</table>\n",
       "</div>"
      ],
      "text/plain": [
       "                 Director  IMDB_Rating  \\\n",
       "0       Christopher Nolan          8.8   \n",
       "1         Martin Scorsese          8.5   \n",
       "2       Quentin Tarantino          8.4   \n",
       "3         Martin Scorsese          8.2   \n",
       "4         Martin Scorsese          8.2   \n",
       "5        Steven Spielberg          8.1   \n",
       "6   Alejandro G. Iñárritu          8.0   \n",
       "7            Edward Zwick          8.0   \n",
       "8           James Cameron          7.8   \n",
       "9         Lasse Hallström          7.8   \n",
       "10      Quentin Tarantino          7.6   \n",
       "\n",
       "                                             Overview  Released_Year  \\\n",
       "0   A thief who steals corporate secrets through t...           2010   \n",
       "1   An undercover cop and a mole in the police att...           2006   \n",
       "2   With the help of a German bounty hunter, a fre...           2012   \n",
       "3   In 1954, a U.S. Marshal investigates the disap...           2010   \n",
       "4   Based on the true story of Jordan Belfort, fro...           2013   \n",
       "5   Barely 21 yet, Frank is a skilled forger who h...           2002   \n",
       "6   A frontiersman on a fur trading expedition in ...           2015   \n",
       "7   A fisherman, a smuggler, and a syndicate of bu...           2006   \n",
       "8   A seventeen-year-old aristocrat falls in love ...           1997   \n",
       "9   A young man in a small Midwestern town struggl...           1993   \n",
       "10  A faded television actor and his stunt double ...           2019   \n",
       "\n",
       "                        Series_Title              Star1                 Star2  \\\n",
       "0                          Inception  Leonardo DiCaprio  Joseph Gordon-Levitt   \n",
       "1                       The Departed  Leonardo DiCaprio            Matt Damon   \n",
       "2                   Django Unchained         Jamie Foxx       Christoph Waltz   \n",
       "3                     Shutter Island  Leonardo DiCaprio        Emily Mortimer   \n",
       "4            The Wolf of Wall Street  Leonardo DiCaprio            Jonah Hill   \n",
       "5                Catch Me If You Can  Leonardo DiCaprio             Tom Hanks   \n",
       "6                       The Revenant  Leonardo DiCaprio             Tom Hardy   \n",
       "7                      Blood Diamond  Leonardo DiCaprio        Djimon Hounsou   \n",
       "8                            Titanic  Leonardo DiCaprio          Kate Winslet   \n",
       "9        What's Eating Gilbert Grape        Johnny Depp     Leonardo DiCaprio   \n",
       "10  Once Upon a Time... in Hollywood  Leonardo DiCaprio             Brad Pitt   \n",
       "\n",
       "                 Star3                Star4  \n",
       "0          Elliot Page         Ken Watanabe  \n",
       "1       Jack Nicholson        Mark Wahlberg  \n",
       "2    Leonardo DiCaprio     Kerry Washington  \n",
       "3         Mark Ruffalo         Ben Kingsley  \n",
       "4        Margot Robbie  Matthew McConaughey  \n",
       "5   Christopher Walken         Martin Sheen  \n",
       "6         Will Poulter     Domhnall Gleeson  \n",
       "7    Jennifer Connelly       Kagiso Kuypers  \n",
       "8           Billy Zane          Kathy Bates  \n",
       "9       Juliette Lewis     Mary Steenburgen  \n",
       "10       Margot Robbie         Emile Hirsch  "
      ]
     },
     "execution_count": 19,
     "metadata": {},
     "output_type": "execute_result"
    }
   ],
   "source": [
    "search.find_info_actor()"
   ]
  },
  {
   "cell_type": "code",
   "execution_count": 20,
   "id": "4fb081ec",
   "metadata": {},
   "outputs": [
    {
     "name": "stdout",
     "output_type": "stream",
     "text": [
      "Please enter an actor or actress: Brad Pitt\n",
      "Pick an option:\n",
      "1) everything\n",
      "2) avgrating\n",
      "3) titles\n",
      "Your choice: avgrating\n"
     ]
    },
    {
     "data": {
      "text/plain": [
       "[{'AVG(IMDB_Rating)': 8.016666666666666}]"
      ]
     },
     "execution_count": 20,
     "metadata": {},
     "output_type": "execute_result"
    }
   ],
   "source": [
    "search.find_info_actor()"
   ]
  },
  {
   "cell_type": "code",
   "execution_count": 21,
   "id": "799b8699",
   "metadata": {},
   "outputs": [
    {
     "name": "stdout",
     "output_type": "stream",
     "text": [
      "Please enter an actor or actress: Anne Hathaway\n",
      "Pick an option:\n",
      "1) everything\n",
      "2) avgrating\n",
      "3) titles\n",
      "Your choice: titles\n"
     ]
    },
    {
     "data": {
      "text/plain": [
       "[{'Series_Title': 'Interstellar'},\n",
       " {'Series_Title': 'The Dark Knight Rises'},\n",
       " {'Series_Title': 'Dark Waters'}]"
      ]
     },
     "execution_count": 21,
     "metadata": {},
     "output_type": "execute_result"
    }
   ],
   "source": [
    "search.find_info_actor()"
   ]
  },
  {
   "cell_type": "code",
   "execution_count": null,
   "id": "e39cfde8",
   "metadata": {},
   "outputs": [],
   "source": []
  },
  {
   "cell_type": "markdown",
   "id": "0cba5ca3",
   "metadata": {},
   "source": [
    "## POST"
   ]
  },
  {
   "cell_type": "code",
   "execution_count": 8,
   "id": "a57387f7",
   "metadata": {},
   "outputs": [
    {
     "data": {
      "text/plain": [
       "<Response [200]>"
      ]
     },
     "execution_count": 8,
     "metadata": {},
     "output_type": "execute_result"
    }
   ],
   "source": [
    "headers = {'Series_Title': \"Joan the programmer\", 'Released_Year': '2022', 'IMDB_Rating': '7.5', \n",
    "           'Overview': 'Joan is a great programmer who loves SQL', 'Director': 'Carlos Munoz', 'Star1': 'Marc Dalmau',\n",
    "           'Star2': 'David Ros', 'Star3': 'Bernat Bellmunt', 'Star4': \"Hugo Alaimo\" }\n",
    "\n",
    "requests.post('http://localhost:9000/post', params=headers)"
   ]
  },
  {
   "cell_type": "code",
   "execution_count": 22,
   "id": "67335d0e",
   "metadata": {},
   "outputs": [
    {
     "name": "stdout",
     "output_type": "stream",
     "text": [
      "Please enter a director: Carlos Munoz\n",
      "Pick an option:\n",
      "1) everything\n",
      "2) avgrating\n",
      "3) titles\n",
      "Your choice: everything\n"
     ]
    },
    {
     "data": {
      "text/html": [
       "<div>\n",
       "<style scoped>\n",
       "    .dataframe tbody tr th:only-of-type {\n",
       "        vertical-align: middle;\n",
       "    }\n",
       "\n",
       "    .dataframe tbody tr th {\n",
       "        vertical-align: top;\n",
       "    }\n",
       "\n",
       "    .dataframe thead th {\n",
       "        text-align: right;\n",
       "    }\n",
       "</style>\n",
       "<table border=\"1\" class=\"dataframe\">\n",
       "  <thead>\n",
       "    <tr style=\"text-align: right;\">\n",
       "      <th></th>\n",
       "      <th>Director</th>\n",
       "      <th>IMDB_Rating</th>\n",
       "      <th>Overview</th>\n",
       "      <th>Released_Year</th>\n",
       "      <th>Series_Title</th>\n",
       "      <th>Star1</th>\n",
       "      <th>Star2</th>\n",
       "      <th>Star3</th>\n",
       "      <th>Star4</th>\n",
       "    </tr>\n",
       "  </thead>\n",
       "  <tbody>\n",
       "    <tr>\n",
       "      <th>0</th>\n",
       "      <td>Carlos Munoz</td>\n",
       "      <td>7.5</td>\n",
       "      <td>Joan is a great programmer who loves SQL</td>\n",
       "      <td>2022</td>\n",
       "      <td>Joan the programmer</td>\n",
       "      <td>Marc Dalmau</td>\n",
       "      <td>David Ros</td>\n",
       "      <td>Bernat Bellmunt</td>\n",
       "      <td>Hugo Alaimo</td>\n",
       "    </tr>\n",
       "  </tbody>\n",
       "</table>\n",
       "</div>"
      ],
      "text/plain": [
       "       Director  IMDB_Rating                                  Overview  \\\n",
       "0  Carlos Munoz          7.5  Joan is a great programmer who loves SQL   \n",
       "\n",
       "   Released_Year         Series_Title        Star1      Star2  \\\n",
       "0           2022  Joan the programmer  Marc Dalmau  David Ros   \n",
       "\n",
       "             Star3        Star4  \n",
       "0  Bernat Bellmunt  Hugo Alaimo  "
      ]
     },
     "execution_count": 22,
     "metadata": {},
     "output_type": "execute_result"
    }
   ],
   "source": [
    "search.find_info_director()"
   ]
  },
  {
   "cell_type": "code",
   "execution_count": null,
   "id": "45195513",
   "metadata": {},
   "outputs": [],
   "source": []
  }
 ],
 "metadata": {
  "kernelspec": {
   "display_name": "Python 3 (ipykernel)",
   "language": "python",
   "name": "python3"
  },
  "language_info": {
   "codemirror_mode": {
    "name": "ipython",
    "version": 3
   },
   "file_extension": ".py",
   "mimetype": "text/x-python",
   "name": "python",
   "nbconvert_exporter": "python",
   "pygments_lexer": "ipython3",
   "version": "3.9.12"
  }
 },
 "nbformat": 4,
 "nbformat_minor": 5
}
