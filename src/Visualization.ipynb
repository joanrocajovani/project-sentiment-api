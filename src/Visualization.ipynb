{
 "cells": [
  {
   "cell_type": "code",
   "execution_count": 1,
   "id": "28f4fc4b",
   "metadata": {},
   "outputs": [],
   "source": [
    "import requests"
   ]
  },
  {
   "cell_type": "code",
   "execution_count": 8,
   "id": "216f484e",
   "metadata": {},
   "outputs": [
    {
     "data": {
      "text/plain": [
       "<Response [200]>"
      ]
     },
     "execution_count": 8,
     "metadata": {},
     "output_type": "execute_result"
    }
   ],
   "source": [
    "headers = {'Series_Title': \"Joan the programmer\", 'Released_Year': '2022', 'IMDB_Rating': '7.5', \n",
    "           'Overview': 'Joan is a great programmer who loves SQL', 'Director': 'Carlos Munoz', 'Star1': 'Marc Dalmau',\n",
    "           'Star2': 'David Ros', 'Star3': 'Bernat Bellmunt', 'Star4': \"Hugo Alaimo\" }\n",
    "\n",
    "requests.post('http://localhost:9000/post', params=headers)"
   ]
  },
  {
   "cell_type": "code",
   "execution_count": null,
   "id": "41647533",
   "metadata": {},
   "outputs": [],
   "source": []
  }
 ],
 "metadata": {
  "kernelspec": {
   "display_name": "Python 3 (ipykernel)",
   "language": "python",
   "name": "python3"
  },
  "language_info": {
   "codemirror_mode": {
    "name": "ipython",
    "version": 3
   },
   "file_extension": ".py",
   "mimetype": "text/x-python",
   "name": "python",
   "nbconvert_exporter": "python",
   "pygments_lexer": "ipython3",
   "version": "3.9.12"
  }
 },
 "nbformat": 4,
 "nbformat_minor": 5
}
